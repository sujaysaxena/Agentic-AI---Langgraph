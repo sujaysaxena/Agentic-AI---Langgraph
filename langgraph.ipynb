{
 "cells": [
  {
   "cell_type": "code",
   "execution_count": 1,
   "metadata": {},
   "outputs": [],
   "source": [
    "import os\n",
    "from dotenv import load_dotenv, find_dotenv\n",
    "_ = load_dotenv(find_dotenv())\n",
    "openai_api_key = os.environ[\"OPENAI_API_KEY\"]\n",
    "TAVILY_API_KEY = os.environ[\"TAVILY_API_KEY\"]"
   ]
  },
  {
   "cell_type": "code",
   "execution_count": 2,
   "metadata": {},
   "outputs": [],
   "source": [
    "TAVILY_API_KEY = os.environ[\"TAVILY_API_KEY\"]  "
   ]
  },
  {
   "cell_type": "code",
   "execution_count": 3,
   "metadata": {},
   "outputs": [],
   "source": [
    "from langchain_openai import ChatOpenAI\n",
    "llm = ChatOpenAI(model=\"gpt-3.5-turbo-0125\")"
   ]
  },
  {
   "cell_type": "code",
   "execution_count": 7,
   "metadata": {},
   "outputs": [
    {
     "data": {
      "text/plain": [
       "[{'url': 'https://recovery.lacounty.gov/2025/01/17/wildfire-update-january-17-2025/',\n",
       "  'content': 'Wildfire Update – January 17, 2025\\nWildfire Update – January 17, 2025 https://recovery.lacounty.gov/wp-content/uploads/2025/01/JIC-Banner-1024x576.jpg 1024 576 LA County Recovers LA County Recovers //recovery.lacounty.gov/wp-content/uploads/2021/07/la-county-recovers-style-logo.png January 17, 2025 January 17, 2025\\nHere are the latest updates from LA County’s Coordinated Joint Information Center as of 10:00AM on January 17, 2025.\\nCasualties [...] Damage Inspectors Bring Urgently Needed Info to Public\\nJanuary 17, 2025\\n\\n\\n\\nLA County Library Foundation and Altadena Library Foundation Launch Connected Wellness Campaign to Support Los Angeles Fire Victims\\nJanuary 17, 2025\\n\\n\\nHome\\n\\nDamage Maps\\nEaton Fire\\nPalisades Fire\\nFranklin Fire\\nBridge Fire [...] Wildfire Update – January 17, 2025\\n\\nHome\\nNews Releases\\nWildfire Update – January 17, 2025'},\n",
       " {'url': 'https://www.ca.gov/LAfires/',\n",
       "  'content': 'Governor Newsom signs executive order to build Los Angeles back faster, prevent future fires\\n\\nMarch 27, 2025\\n\\nAssistance continues to flow to families and businesses as federal aid for LA fires tops $2 billion\\n\\nMarch 26, 2025\\n\\nView all LA fires news\\n\\nRebuild - faster\\n\\nGovernor Newsom suspended permit and review requirements under the California Environmental Quality Act (CEQA) and the California Coastal Act. This allows victims of the recent fires to restore their homes and businesses faster. [...] Tell us what this website could do better. Take this 3-minute survey. You can take it in English or Spanish.\\n\\nJoin the conversation\\n\\nSign up to tell us about your recovery experience and hear from others.\\n\\nState updates\\n\\nFederal government approves Californiaâ\\x80\\x99s request to expand LA fire debris removal program\\n\\nMarch 28, 2025\\n\\nCalifornia urges FEMA to add businesses, non-profits, and multi-family structures to LA fire debris cleanup\\n\\nMarch 28, 2025'},\n",
       " {'url': 'https://www.epa.gov/california-wildfires',\n",
       "  'content': 'EPA and LA County Sign Lease for New Staging Area in Altadena\\n\\n\\nEPA Administrator Lee Zeldin Travels to Los Angeles, California as EPA Expedites the Largest Wildfire Cleanup Effort in Agency History\\n\\n\\nFederal, State and Local Agencies Come Together to Speed Up Wildfire Recovery with New Temporary Processing Site at Will Rogers State Beach Parking Lot\\n\\n\\nView All Recent News Releases\\nContact Us to ask a question, provide feedback, or report a problem.\\nLast updated on February 24, 2025 [...] On January 7, 2025, a series of catastrophic wildfires developed in Los Angeles County. EPA is working as part of an all-of-government response to these wildfires. We are tasked with removing hazardous materials from nearly 14,000 affected properties.'}]"
      ]
     },
     "execution_count": 7,
     "metadata": {},
     "output_type": "execute_result"
    }
   ],
   "source": [
    "from langchain_community.tools.tavily_search import TavilySearchResults\n",
    "search = TavilySearchResults(max_results=3)\n",
    "search.invoke(\"tell me about 2025 LA wildfire updates\")"
   ]
  },
  {
   "cell_type": "code",
   "execution_count": 8,
   "metadata": {},
   "outputs": [],
   "source": [
    "tools =[search]"
   ]
  },
  {
   "cell_type": "code",
   "execution_count": 9,
   "metadata": {},
   "outputs": [
    {
     "data": {
      "text/plain": [
       "[TavilySearchResults(max_results=3)]"
      ]
     },
     "execution_count": 9,
     "metadata": {},
     "output_type": "execute_result"
    }
   ],
   "source": [
    "tools"
   ]
  },
  {
   "cell_type": "code",
   "execution_count": 10,
   "metadata": {},
   "outputs": [],
   "source": [
    "from langgraph.prebuilt import create_react_agent\n",
    "\n",
    "agent_executor = create_react_agent(llm, tools)"
   ]
  },
  {
   "cell_type": "code",
   "execution_count": 11,
   "metadata": {},
   "outputs": [
    {
     "name": "stdout",
     "output_type": "stream",
     "text": [
      "{'messages': [HumanMessage(content='tell me about 2025 LA wildfire updates', id='fa90d337-8c24-4e63-a1ba-00d1cbbeb4c2'), AIMessage(content='', additional_kwargs={'tool_calls': [{'id': 'call_4DKtjcQOMSqy7rhMPupKFVKB', 'function': {'arguments': '{\"query\":\"2025 Los Angeles wildfire updates\"}', 'name': 'tavily_search_results_json'}, 'type': 'function'}]}, response_metadata={'token_usage': {'completion_tokens': 24, 'prompt_tokens': 90, 'total_tokens': 114, 'completion_tokens_details': {'accepted_prediction_tokens': 0, 'audio_tokens': 0, 'reasoning_tokens': 0, 'rejected_prediction_tokens': 0}, 'prompt_tokens_details': {'audio_tokens': 0, 'cached_tokens': 0}}, 'model_name': 'gpt-3.5-turbo-0125', 'system_fingerprint': None, 'finish_reason': 'tool_calls', 'logprobs': None}, id='run-df64127f-33b4-43c7-8166-c4b4af70c19e-0', tool_calls=[{'name': 'tavily_search_results_json', 'args': {'query': '2025 Los Angeles wildfire updates'}, 'id': 'call_4DKtjcQOMSqy7rhMPupKFVKB', 'type': 'tool_call'}], usage_metadata={'input_tokens': 90, 'output_tokens': 24, 'total_tokens': 114}), ToolMessage(content='[{\"url\": \"https://en.wikipedia.org/wiki/January_2025_Southern_California_wildfires\", \"content\": \"a b c Tanyos, Faris; Freiman, Jordan; Dakss, Brian; Breen, Kerry (January 8, 2025). \\\\\"Pacific Palisades fire burns in Los Angeles, Eaton fire kills 2: Live Updates\\\\\". CBS News. Archived from the original on January 8, 2025. Retrieved January 8, 2025.\\\\n^ \\\\\"Los Angeles wildfires live updates: New evacuation order issued as Archer Fire sparks in San Fernando Valley\\\\\". AP News. Archived from the original on January 20, 2025. Retrieved January 10, 2025. [...] ^ Graff, Amy; Wolfe, Jonathan; Moses, Claire; Zhuang, Yan (January 12, 2025). \\\\\"L.A. Fires Live Updates: Firefighters Make Progress as Forecasts Warn of Stronger Winds\\\\\". The New York Times. ISSN\\xa00362-4331. Retrieved January 12, 2025.\\\\n^ \\\\\"California Governor Slams Elon Musk Over Los Angeles Wildfire \\\\\"Lies\\\\\"\\\\\". NDTV. Agence France-Presse. January 14, 2025. [...] a b Fry, Hannah; Haggerty; Toohey; Vives; Winton (January 8, 2025). \\\\\"At least 5 dead in L.A. County firestorms; more than 1,000 structures lost\\\\\". Los Angeles Times. Archived from the original on January 8, 2025. Retrieved January 9, 2025.\\\\n^ Martin, Jeff (January 9, 2024). \\\\\"Los Angeles wildfires: Updates from Jan. 9, 2025\\\\\". AP News. Retrieved January 9, 2025.\"}]', name='tavily_search_results_json', id='fa443ebf-9026-48e4-b0aa-0feeb5b0a970', tool_call_id='call_4DKtjcQOMSqy7rhMPupKFVKB'), AIMessage(content='In January 2025, there were significant wildfire updates in Los Angeles. Some key updates include:\\n\\n1. A fire in Pacific Palisades in Los Angeles and the Eaton fire that resulted in 2 fatalities.\\n2. The Archer Fire in San Fernando Valley led to a new evacuation order.\\n3. Firefighters made progress despite forecasts warning of stronger winds.\\n4. California Governor criticized Elon Musk over alleged misinformation related to the Los Angeles wildfires.\\n5. Tragically, at least 5 individuals lost their lives, and over 1,000 structures were destroyed in the L.A. County firestorms.\\n\\nFor more detailed information, you can refer to the [source](https://en.wikipedia.org/wiki/January_2025_Southern_California_wildfires).', response_metadata={'token_usage': {'completion_tokens': 158, 'prompt_tokens': 513, 'total_tokens': 671, 'completion_tokens_details': {'accepted_prediction_tokens': 0, 'audio_tokens': 0, 'reasoning_tokens': 0, 'rejected_prediction_tokens': 0}, 'prompt_tokens_details': {'audio_tokens': 0, 'cached_tokens': 0}}, 'model_name': 'gpt-3.5-turbo-0125', 'system_fingerprint': None, 'finish_reason': 'stop', 'logprobs': None}, id='run-1a3206af-9d90-4dd1-bd38-b445eccf79fa-0', usage_metadata={'input_tokens': 513, 'output_tokens': 158, 'total_tokens': 671})]}\n"
     ]
    }
   ],
   "source": [
    "from langchain_core.messages import HumanMessage\n",
    "response = agent_executor.invoke({\"messages\": [HumanMessage(content=\"tell me about 2025 LA wildfire updates\")]})\n",
    "print(response)"
   ]
  },
  {
   "cell_type": "code",
   "execution_count": 12,
   "metadata": {},
   "outputs": [
    {
     "data": {
      "text/plain": [
       "[HumanMessage(content='tell me about 2025 LA wildfire updates', id='fa90d337-8c24-4e63-a1ba-00d1cbbeb4c2'),\n",
       " AIMessage(content='', additional_kwargs={'tool_calls': [{'id': 'call_4DKtjcQOMSqy7rhMPupKFVKB', 'function': {'arguments': '{\"query\":\"2025 Los Angeles wildfire updates\"}', 'name': 'tavily_search_results_json'}, 'type': 'function'}]}, response_metadata={'token_usage': {'completion_tokens': 24, 'prompt_tokens': 90, 'total_tokens': 114, 'completion_tokens_details': {'accepted_prediction_tokens': 0, 'audio_tokens': 0, 'reasoning_tokens': 0, 'rejected_prediction_tokens': 0}, 'prompt_tokens_details': {'audio_tokens': 0, 'cached_tokens': 0}}, 'model_name': 'gpt-3.5-turbo-0125', 'system_fingerprint': None, 'finish_reason': 'tool_calls', 'logprobs': None}, id='run-df64127f-33b4-43c7-8166-c4b4af70c19e-0', tool_calls=[{'name': 'tavily_search_results_json', 'args': {'query': '2025 Los Angeles wildfire updates'}, 'id': 'call_4DKtjcQOMSqy7rhMPupKFVKB', 'type': 'tool_call'}], usage_metadata={'input_tokens': 90, 'output_tokens': 24, 'total_tokens': 114}),\n",
       " ToolMessage(content='[{\"url\": \"https://en.wikipedia.org/wiki/January_2025_Southern_California_wildfires\", \"content\": \"a b c Tanyos, Faris; Freiman, Jordan; Dakss, Brian; Breen, Kerry (January 8, 2025). \\\\\"Pacific Palisades fire burns in Los Angeles, Eaton fire kills 2: Live Updates\\\\\". CBS News. Archived from the original on January 8, 2025. Retrieved January 8, 2025.\\\\n^ \\\\\"Los Angeles wildfires live updates: New evacuation order issued as Archer Fire sparks in San Fernando Valley\\\\\". AP News. Archived from the original on January 20, 2025. Retrieved January 10, 2025. [...] ^ Graff, Amy; Wolfe, Jonathan; Moses, Claire; Zhuang, Yan (January 12, 2025). \\\\\"L.A. Fires Live Updates: Firefighters Make Progress as Forecasts Warn of Stronger Winds\\\\\". The New York Times. ISSN\\xa00362-4331. Retrieved January 12, 2025.\\\\n^ \\\\\"California Governor Slams Elon Musk Over Los Angeles Wildfire \\\\\"Lies\\\\\"\\\\\". NDTV. Agence France-Presse. January 14, 2025. [...] a b Fry, Hannah; Haggerty; Toohey; Vives; Winton (January 8, 2025). \\\\\"At least 5 dead in L.A. County firestorms; more than 1,000 structures lost\\\\\". Los Angeles Times. Archived from the original on January 8, 2025. Retrieved January 9, 2025.\\\\n^ Martin, Jeff (January 9, 2024). \\\\\"Los Angeles wildfires: Updates from Jan. 9, 2025\\\\\". AP News. Retrieved January 9, 2025.\"}]', name='tavily_search_results_json', id='fa443ebf-9026-48e4-b0aa-0feeb5b0a970', tool_call_id='call_4DKtjcQOMSqy7rhMPupKFVKB'),\n",
       " AIMessage(content='In January 2025, there were significant wildfire updates in Los Angeles. Some key updates include:\\n\\n1. A fire in Pacific Palisades in Los Angeles and the Eaton fire that resulted in 2 fatalities.\\n2. The Archer Fire in San Fernando Valley led to a new evacuation order.\\n3. Firefighters made progress despite forecasts warning of stronger winds.\\n4. California Governor criticized Elon Musk over alleged misinformation related to the Los Angeles wildfires.\\n5. Tragically, at least 5 individuals lost their lives, and over 1,000 structures were destroyed in the L.A. County firestorms.\\n\\nFor more detailed information, you can refer to the [source](https://en.wikipedia.org/wiki/January_2025_Southern_California_wildfires).', response_metadata={'token_usage': {'completion_tokens': 158, 'prompt_tokens': 513, 'total_tokens': 671, 'completion_tokens_details': {'accepted_prediction_tokens': 0, 'audio_tokens': 0, 'reasoning_tokens': 0, 'rejected_prediction_tokens': 0}, 'prompt_tokens_details': {'audio_tokens': 0, 'cached_tokens': 0}}, 'model_name': 'gpt-3.5-turbo-0125', 'system_fingerprint': None, 'finish_reason': 'stop', 'logprobs': None}, id='run-1a3206af-9d90-4dd1-bd38-b445eccf79fa-0', usage_metadata={'input_tokens': 513, 'output_tokens': 158, 'total_tokens': 671})]"
      ]
     },
     "execution_count": 12,
     "metadata": {},
     "output_type": "execute_result"
    }
   ],
   "source": [
    "response[\"messages\"]"
   ]
  },
  {
   "cell_type": "markdown",
   "metadata": {},
   "source": [
    "Adding Memory"
   ]
  },
  {
   "cell_type": "code",
   "execution_count": 13,
   "metadata": {},
   "outputs": [],
   "source": [
    "from langgraph.checkpoint.memory import MemorySaver\n",
    "memory = MemorySaver()"
   ]
  },
  {
   "cell_type": "code",
   "execution_count": 14,
   "metadata": {},
   "outputs": [],
   "source": [
    "agent_executor = create_react_agent(llm, tools, checkpointer=memory)"
   ]
  },
  {
   "cell_type": "code",
   "execution_count": 15,
   "metadata": {},
   "outputs": [],
   "source": [
    "config = {\"configurable\": {\"thread_id\": \"001\"}}"
   ]
  },
  {
   "cell_type": "code",
   "execution_count": 16,
   "metadata": {},
   "outputs": [
    {
     "name": "stdout",
     "output_type": "stream",
     "text": [
      "{'agent': {'messages': [AIMessage(content='', additional_kwargs={'tool_calls': [{'id': 'call_s3liKl71VAOKXqUXIVcFWcHa', 'function': {'arguments': '{\"query\":\"2024 soccer Eurocup winner\"}', 'name': 'tavily_search_results_json'}, 'type': 'function'}]}, response_metadata={'token_usage': {'completion_tokens': 24, 'prompt_tokens': 91, 'total_tokens': 115, 'completion_tokens_details': {'accepted_prediction_tokens': 0, 'audio_tokens': 0, 'reasoning_tokens': 0, 'rejected_prediction_tokens': 0}, 'prompt_tokens_details': {'audio_tokens': 0, 'cached_tokens': 0}}, 'model_name': 'gpt-3.5-turbo-0125', 'system_fingerprint': None, 'finish_reason': 'tool_calls', 'logprobs': None}, id='run-806fbdfc-2b73-46b9-b6d8-c7cfa1c46215-0', tool_calls=[{'name': 'tavily_search_results_json', 'args': {'query': '2024 soccer Eurocup winner'}, 'id': 'call_s3liKl71VAOKXqUXIVcFWcHa', 'type': 'tool_call'}], usage_metadata={'input_tokens': 91, 'output_tokens': 24, 'total_tokens': 115})]}}\n",
      "----\n",
      "{'tools': {'messages': [ToolMessage(content='[{\"url\": \"https://www.cnn.com/2024/07/14/sport/spain-england-euro-2024-final-spt-intl/index.html\", \"content\": \"Ad Feedback\\\\nSports / Football\\\\nSpain wins Euro 2024, defeating England 2-1 in a dramatic final to claim record fourth European Championship\\\\nBy Ben Morse, CNN\\\\n5 minute read\\\\nUpdated 5:44 PM EDT, Sun July 14, 2024\\\\n\\\\nLink Copied!\\\\nFollow:\\\\nUK See your latest updates [...] Alvaro Morata lifts the Henri Delaunay trophy after Spain defeats England in the Euro 2024 final.\\\\nMichael Regan/UEFA/Getty Images\\\\nCNN \\xa0—\\xa0\\\\nSpain won a record-breaking fourth European Championship, defeating England 2-1 following a drama-filled second half in the Euro 2024 final on Sunday in Berlin. [...] Spain wins Euro 2024, defeating England 2-1 in a dramatic final to claim record fourth European Championship | CNN\"}, {\"url\": \"https://www.uefa.com/euro2024/news/028f-1b4e4a9a6d42-253a2c18efdf-1000--uefa-euro-2024-meet-the-winners/\", \"content\": \"How they got there, top scorers, pedigree, key players and the coach – all you need to know about UEFA EURO 2024 winners Spain.\\\\nRoute to glory\\\\nGroup B winners\\\\n3-0 vs Croatia (Berlin, 15 June)\\\\n1-0 vs Italy (Gelsenkirchen, 20 June)\\\\n1-0 vs Albania (Düsseldorf, 24 June)\\\\nRound of 16\\\\n4-1 vs Georgia (Cologne, 30 June)\\\\nQuarter-final\\\\n2-1 aet vs Germany (Stuttgart, 5 July)\\\\nSemi-final\\\\n2-1 vs France (Munich, 9 July)\\\\nFinal\\\\n2-1 vs England (Berlin, 10 July)\\\\nSpain\\\\nPedigree [...] UEFA.com works better on other browsers\\\\nFor the best possible experience, we recommend using Chrome, Firefox or Microsoft Edge.\\\\nSkip to main content\\\\nUEFA EURO 2024\\\\nUEFA EURO 2024 - UEFA EURO 2024: Meet the winners - News \\\\nUEFA EURO 2024: Meet the winners\\\\nSunday, July 14, 2024\\\\nArticle summary\\\\nGet the full lowdown on UEFA EURO 2024 winners Spain.\\\\nArticle top media content\\\\nSpain\\'s route to EURO 2024 glory: Every goal\\\\nArticle body [...] Live 14/07/2024 Lowdown: EURO 2024 final ------------------------ Spain beat England 2-1 in the EURO 2024 final at Olympiastadion Berlin on Sunday 14 July.\\\\nUEFA EURO 2024\"}, {\"url\": \"https://en.wikipedia.org/wiki/UEFA_Euro_2024_final\", \"content\": \"The UEFA Euro 2024 final was a football match that determined the winners of UEFA Euro 2024. The match was the seventeenth final of the European Championship, a quadrennial tournament contested by the men\\'s national teams of the member associations of UEFA to decide the champions of Europe. The match was held at the Olympiastadion in Berlin, Germany, on 14 July 2024, and was contested by Spain, in their fifth final, and England, in their second final, but their first appearance in a major men\\'s [...] Details[edit]\\\\n14\\xa0July\\xa02024\\\\n21:00 CEST\\\\nSpain\\xa0  2–1 \\xa0England\\\\nWilliams  47\\'\\\\nOyarzabal  86\\'\\\\n    Report\\\\nPalmer  73\\'\\\\nOlympiastadion, Berlin\\\\nAttendance: 65,600[3]\\\\nReferee: François Letexier (France)\\\\nSpain[4]\\\\nEngland[4]\\\\nGK  23  Unai Simón\\\\nRB  2   Dani Carvajal\\\\nCB  3   Robin Le Normand        \\xa083\\'\\\\nCB  14  Aymeric Laporte\\\\nLB  24  Marc Cucurella\\\\nCM  16  Rodri       \\xa046\\'\\\\nCM  8   Fabián Ruiz\\\\nRW  19  Lamine Yamal        \\xa089\\'\\\\nAM  10  Dani Olmo   \\xa031\\'\\\\nLW  17  Nico Williams\\\\nCF  7   Álvaro Morata (c)       \\xa068\\' [...] ^ a b c d e f g h i \\\\\"Spain 2 England 1: Oyarzabal the unlikely hero with late winner as Spain win Euro 2024\\\\\". The Athletic. 14 July 2024. Retrieved 14 July 2024.\\\\n^ \\\\\"Regulations of the UEFA European Football Championship, 2022–24\\\\\". Union of European Football Associations. 10 May 2022. Archived (PDF) from the original on 16 May 2022. Retrieved 16 May 2022.\\\\n^ a b c \\\\\"Team statistics\\\\\" (PDF). UEFA.com. Union of European Football Associations. 14 July 2024. Retrieved 14 July 2024.\"}]', name='tavily_search_results_json', tool_call_id='call_s3liKl71VAOKXqUXIVcFWcHa')]}}\n",
      "----\n",
      "{'agent': {'messages': [AIMessage(content='Spain won the 2024 soccer Eurocup, defeating England 2-1 in a dramatic final to claim their record fourth European Championship.', response_metadata={'token_usage': {'completion_tokens': 30, 'prompt_tokens': 1244, 'total_tokens': 1274, 'completion_tokens_details': {'accepted_prediction_tokens': 0, 'audio_tokens': 0, 'reasoning_tokens': 0, 'rejected_prediction_tokens': 0}, 'prompt_tokens_details': {'audio_tokens': 0, 'cached_tokens': 0}}, 'model_name': 'gpt-3.5-turbo-0125', 'system_fingerprint': None, 'finish_reason': 'stop', 'logprobs': None}, id='run-3cf480a0-3e59-4cb4-8c1f-9bccb4993dcb-0', usage_metadata={'input_tokens': 1244, 'output_tokens': 30, 'total_tokens': 1274})]}}\n",
      "----\n"
     ]
    }
   ],
   "source": [
    "for chunk in agent_executor.stream(\n",
    "    {\"messages\": [HumanMessage(content=\"Who won the 2024 soccer Eurocup?\")]}, config\n",
    "):\n",
    "    print(chunk)\n",
    "    print(\"----\")"
   ]
  },
  {
   "cell_type": "code",
   "execution_count": 17,
   "metadata": {},
   "outputs": [
    {
     "name": "stdout",
     "output_type": "stream",
     "text": [
      "{'agent': {'messages': [AIMessage(content='The top stars of the Spain national team, who won the 2024 soccer Eurocup, included players like Álvaro Morata, Mikel Oyarzabal, Unai Simón, Dani Carvajal, Aymeric Laporte, and Fabián Ruiz.', response_metadata={'token_usage': {'completion_tokens': 60, 'prompt_tokens': 1290, 'total_tokens': 1350, 'completion_tokens_details': {'accepted_prediction_tokens': 0, 'audio_tokens': 0, 'reasoning_tokens': 0, 'rejected_prediction_tokens': 0}, 'prompt_tokens_details': {'audio_tokens': 0, 'cached_tokens': 0}}, 'model_name': 'gpt-3.5-turbo-0125', 'system_fingerprint': None, 'finish_reason': 'stop', 'logprobs': None}, id='run-e913fa52-c676-4421-a24b-b967d3b0355f-0', usage_metadata={'input_tokens': 1290, 'output_tokens': 60, 'total_tokens': 1350})]}}\n",
      "----\n"
     ]
    }
   ],
   "source": [
    "for chunk in agent_executor.stream(\n",
    "    {\"messages\": [HumanMessage(content=\"Who were the top stars of that winner team?\")]}, config\n",
    "):\n",
    "    print(chunk)\n",
    "    print(\"----\")"
   ]
  },
  {
   "cell_type": "code",
   "execution_count": 18,
   "metadata": {},
   "outputs": [
    {
     "name": "stdout",
     "output_type": "stream",
     "text": [
      "{'agent': {'messages': [AIMessage(content='We were talking about the Spain national soccer team, which won the 2024 soccer Eurocup by defeating England in the final.', response_metadata={'token_usage': {'completion_tokens': 28, 'prompt_tokens': 1364, 'total_tokens': 1392, 'completion_tokens_details': {'accepted_prediction_tokens': 0, 'audio_tokens': 0, 'reasoning_tokens': 0, 'rejected_prediction_tokens': 0}, 'prompt_tokens_details': {'audio_tokens': 0, 'cached_tokens': 0}}, 'model_name': 'gpt-3.5-turbo-0125', 'system_fingerprint': None, 'finish_reason': 'stop', 'logprobs': None}, id='run-7ef3a178-6b2c-46b9-a26f-d40260a2acd9-0', usage_metadata={'input_tokens': 1364, 'output_tokens': 28, 'total_tokens': 1392})]}}\n",
      "----\n"
     ]
    }
   ],
   "source": [
    "config = {\"configurable\": {\"thread_id\": \"001\"}}\n",
    "for chunk in agent_executor.stream(\n",
    "    {\"messages\": [HumanMessage(content=\"About what soccer team we were talking?\")]}, config\n",
    "):\n",
    "    print(chunk)\n",
    "    print(\"----\")"
   ]
  }
 ],
 "metadata": {
  "kernelspec": {
   "display_name": "llmapp",
   "language": "python",
   "name": "python3"
  },
  "language_info": {
   "codemirror_mode": {
    "name": "ipython",
    "version": 3
   },
   "file_extension": ".py",
   "mimetype": "text/x-python",
   "name": "python",
   "nbconvert_exporter": "python",
   "pygments_lexer": "ipython3",
   "version": "3.11.11"
  }
 },
 "nbformat": 4,
 "nbformat_minor": 2
}
